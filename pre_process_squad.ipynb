{
 "cells": [
  {
   "cell_type": "code",
   "execution_count": 1,
   "metadata": {
    "collapsed": true
   },
   "outputs": [],
   "source": [
    "import pandas as pd\n",
    "import json\n",
    "\n",
    "import os"
   ]
  },
  {
   "cell_type": "markdown",
   "metadata": {},
   "source": [
    "## For `question_answer_pairs` dataset"
   ]
  },
  {
   "cell_type": "code",
   "execution_count": 2,
   "metadata": {
    "collapsed": true
   },
   "outputs": [],
   "source": [
    "def read_question_answer_pairs_info(qa_dataset_fp, article_fp):\n",
    "    '''\n",
    "    Read information regarding relationship between article, questions and answers\n",
    "    Returning list of questions and answers row\n",
    "    Example output: [\n",
    "     'Alessandro_Volta\\tWas Volta an Italian physicist?\\tyes\\teasy\\teasy\\tS09_set4_a10\\n',\n",
    "     'Alessandro_Volta\\tIs Volta buried in the city of Pittsburgh?\\tno\\teasy\\teasy\\tS09_set4_a10\\n'\n",
    "    ]\n",
    "    '''\n",
    "    s = []\n",
    "    for file in os.listdir(qa_dataset_fp):\n",
    "        if file.endswith('.txt'):\n",
    "            print(\"Read file \"+file)\n",
    "            with open(qa_dataset_fp+'/{}'.format(file), 'r', encoding='utf-8', errors='ignore') as f:\n",
    "                temp_s = f.readlines()\n",
    "                s.extend(temp_s)\n",
    "    return s\n",
    "\n",
    "def build_dataset(qa_dataset_fp, article_fp):\n",
    "    s = read_question_answer_pairs_info(qa_dataset_fp, article_fp)\n",
    "    \n",
    "    document_names = os.listdir(article_fp)\n",
    "    in_json_list = []\n",
    "    for article_file in document_names:\n",
    "        in_json = {}\n",
    "        with open(\n",
    "            '{}/{}'.format(article_fp, article_file), 'r', encoding='utf-8', errors='ignore') as f:\n",
    "            in_json['context'] = f.read()\n",
    "        in_json['id'] = article_file.replace('.txt.clean','')\n",
    "        in_json['qas'] = []\n",
    "        in_json_list.append(in_json)\n",
    "    print(\"There are {} documents.\".format(len(in_json_list)))\n",
    "    \n",
    "    out_json = {}\n",
    "    doc_id_list = [x['id'] for x in in_json_list]\n",
    "    \n",
    "    for i,each_s in enumerate(s[1:]):\n",
    "        # Extract information of each row, exclude first row as the first row is the column name\n",
    "        cont = each_s.split('\\t')\n",
    "        qas_json_list = []\n",
    "        qa_json = {}\n",
    "        \n",
    "        cont = each_s.split('\\t')\n",
    "        ref_file = cont[-1].replace('\\n','')\n",
    "        qa_json['question'] = cont[1]\n",
    "        qa_json['answers'] = cont[2]\n",
    "        qa_json['id'] = i\n",
    "\n",
    "        # Store the questions and answers pair into corresponding document(context)\n",
    "        for idx,doc_id in enumerate(doc_id_list):\n",
    "            if doc_id == ref_file:\n",
    "                in_json_list[idx]['qas'].append(qa_json)\n",
    "    dummy = {}\n",
    "    dummy['paragraphs'] = in_json_list\n",
    "    out_json['data'] = [dummy]\n",
    "    \n",
    "    return out_json"
   ]
  },
  {
   "cell_type": "code",
   "execution_count": 3,
   "metadata": {},
   "outputs": [
    {
     "name": "stdout",
     "output_type": "stream",
     "text": [
      "Read file S08_question_answer_pairs.txt\n",
      "Read file S09_question_answer_pairs.txt\n",
      "Read file S10_question_answer_pairs.txt\n",
      "There are 165 documents.\n"
     ]
    }
   ],
   "source": [
    "out_json = build_dataset('data/questionanswer-dataset', 'data/questionanswer-dataset/text_data')\n",
    "\n",
    "with open('input/test.json','w') as f:\n",
    "    json.dump(out_json, f)"
   ]
  },
  {
   "cell_type": "markdown",
   "metadata": {},
   "source": [
    "END"
   ]
  }
 ],
 "metadata": {
  "kernelspec": {
   "display_name": "Python 3",
   "language": "python",
   "name": "python3"
  },
  "language_info": {
   "codemirror_mode": {
    "name": "ipython",
    "version": 3
   },
   "file_extension": ".py",
   "mimetype": "text/x-python",
   "name": "python",
   "nbconvert_exporter": "python",
   "pygments_lexer": "ipython3",
   "version": "3.6.1"
  }
 },
 "nbformat": 4,
 "nbformat_minor": 2
}
